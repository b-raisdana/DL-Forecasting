{
 "cells": [
  {
   "cell_type": "code",
   "execution_count": null,
   "id": "initial_id",
   "metadata": {
    "collapsed": true
   },
   "outputs": [],
   "source": [
    "import tensorflow as tf\n",
    "from tensorflow.keras import layers, Model\n",
    "\n",
    "# Example input shapes per timeframe\n",
    "trigger_input_shape = (672, 12)    # e.g., 15min, ~1 week\n",
    "pattern_input_shape = (336, 12)    # e.g., 1H, ~2 weeks\n",
    "structure_input_shape = (180, 12)  # e.g., 1D, ~6 months\n",
    "\n",
    "latent_dim = 64  # Size of each branch's compressed representation\n",
    "\n",
    "# --- Encoder Branch ---\n",
    "def build_encoder_branch(input_shape, latent_dim):\n",
    "    inp = layers.Input(shape=input_shape)\n",
    "    x = layers.Conv1D(32, kernel_size=5, activation='relu', padding='same')(inp)\n",
    "    x = layers.MaxPooling1D(2)(x)\n",
    "    x = layers.Conv1D(64, kernel_size=3, activation='relu', padding='same')(x)\n",
    "    attn_out = layers.Attention()([x, x])  # Self-attention\n",
    "    x = layers.GlobalAveragePooling1D()(attn_out)\n",
    "    encoded = layers.Dense(latent_dim, activation='relu')(x)\n",
    "    return inp, encoded\n",
    "\n",
    "# --- Decoder Branch ---\n",
    "def build_decoder_branch(latent_dim, output_shape):\n",
    "    inp = layers.Input(shape=(latent_dim,))\n",
    "    x = layers.Dense((output_shape[0] // 2) * 64, activation='relu')(inp)\n",
    "    x = layers.Reshape((output_shape[0] // 2, 64))(x)\n",
    "    x = layers.Conv1DTranspose(32, 3, strides=2, padding='same', activation='relu')(x)\n",
    "    x = layers.Conv1D(output_shape[1], kernel_size=3, padding='same', activation='linear')(x)\n",
    "    return inp, x\n",
    "\n",
    "# Encoder branches\n",
    "tr_in, tr_enc = build_encoder_branch(trigger_input_shape, latent_dim)\n",
    "pt_in, pt_enc = build_encoder_branch(pattern_input_shape, latent_dim)\n",
    "st_in, st_enc = build_encoder_branch(structure_input_shape, latent_dim)\n",
    "\n",
    "# Concatenate encoded branches → shared latent space\n",
    "merged = layers.Concatenate()([tr_enc, pt_enc, st_enc])\n",
    "shared_latent = layers.Dense(latent_dim * 2, activation='relu', name=\"latent_vector\")(merged)\n",
    "\n",
    "# Decoder branches from shared latent\n",
    "decoder_input = layers.Input(shape=(latent_dim * 2,))\n",
    "tr_din, tr_dout = build_decoder_branch(latent_dim * 2, trigger_input_shape)\n",
    "pt_din, pt_dout = build_decoder_branch(latent_dim * 2, pattern_input_shape)\n",
    "st_din, st_dout = build_decoder_branch(latent_dim * 2, structure_input_shape)\n",
    "\n",
    "# Models\n",
    "encoder = Model(inputs=[tr_in, pt_in, st_in], outputs=shared_latent, name=\"Encoder\")\n",
    "decoder = Model(inputs=decoder_input, outputs=[tr_dout, pt_dout, st_dout], name=\"Decoder\")\n",
    "\n",
    "# Full autoencoder\n",
    "autoencoder_outputs = decoder(encoder.output)\n",
    "autoencoder = Model(inputs=[tr_in, pt_in, st_in], outputs=autoencoder_outputs, name=\"MultiBranchAutoencoder\")\n",
    "autoencoder.compile(optimizer='adam', loss='mse')\n",
    "\n",
    "autoencoder.summary()\n"
   ]
  }
 ],
 "metadata": {
  "kernelspec": {
   "display_name": "Python 3",
   "language": "python",
   "name": "python3"
  },
  "language_info": {
   "codemirror_mode": {
    "name": "ipython",
    "version": 2
   },
   "file_extension": ".py",
   "mimetype": "text/x-python",
   "name": "python",
   "nbconvert_exporter": "python",
   "pygments_lexer": "ipython2",
   "version": "2.7.6"
  }
 },
 "nbformat": 4,
 "nbformat_minor": 5
}
