{
 "cells": [
  {
   "metadata": {},
   "cell_type": "code",
   "source": [
    "\n",
    "from datetime import timedelta\n",
    "\n",
    "import numpy as np\n",
    "import pandas as pd\n",
    "import plotly.graph_objects as go\n",
    "\n",
    "from Config import config\n",
    "from Model.Data.atr import read_multi_timeframe_ohlcva\n",
    "from helper.data_preparation import single_timeframe\n",
    "from helper.helper import date_range_to_string\n"
   ],
   "id": "9cb78b7a090aecc3",
   "outputs": [],
   "execution_count": null
  },
  {
   "metadata": {},
   "cell_type": "markdown",
   "source": [
    "# reading sample data\n",
    "volume_rma = volume / ta.ram(volume_rma, 14)"
   ],
   "id": "acbcf3ff560d776"
  },
  {
   "metadata": {},
   "cell_type": "code",
   "source": [
    "config.processing_date_range = date_range_to_string(start=pd.to_datetime('03-01-24'),\n",
    "                                                    end=pd.to_datetime('09-01-24'))\n",
    "mt_ohlcva = read_multi_timeframe_ohlcva(config.processing_date_range)\n",
    "mt_ohlcva"
   ],
   "id": "bb0deefe7977e82c",
   "outputs": [],
   "execution_count": null
  },
  {
   "metadata": {},
   "cell_type": "code",
   "source": "mt_ohlcva",
   "id": "1e532a9a74e324d8",
   "outputs": [],
   "execution_count": null
  },
  {
   "metadata": {},
   "cell_type": "markdown",
   "source": [
    "# Visualizing rolling mean\n",
    "open = open - rolling(mean, 256)"
   ],
   "id": "93de42acdc435ff"
  },
  {
   "metadata": {},
   "cell_type": "code",
   "source": [
    "fig = go.Figure()\n",
    "count, edges = np.histogram(np.log(mt_ohlcva['open'] / mt_ohlcva['atr']), bins=100, )\n",
    "n_probability = count / len(mt_ohlcva)\n",
    "fig = go.Figure()\n",
    "fig.add_trace(go.Scatter(x=edges, y=n_probability, mode='lines', name='p', line=dict(color='blue')))\n",
    "fig.update_layout(title='Volume RMA Over Time', xaxis_title='Time', yaxis_title='Volume RMA', template='plotly_white')\n",
    "fig.show()"
   ],
   "id": "c2a33ea84bb83363",
   "outputs": [],
   "execution_count": null
  },
  {
   "metadata": {},
   "cell_type": "markdown",
   "source": [
    "# Visualizing rolling std\n",
    "open = open / rolling(std, 256)"
   ],
   "id": "1f04548fe751ebe7"
  },
  {
   "metadata": {},
   "cell_type": "markdown",
   "source": "# visual compare_transformation",
   "id": "ac47f76ecbabbd08"
  },
  {
   "metadata": {},
   "cell_type": "code",
   "source": [
    "from plotly.subplots import make_subplots\n",
    "from random import randint, seed\n",
    "\n",
    "np.random.seed(42)\n",
    "seed(42)\n",
    "\n",
    "price_columns = {\n",
    "    'open': 'gray',\n",
    "    'high': 'green',\n",
    "    'low': 'red',\n",
    "    'close': 'blue',\n",
    "}\n",
    "\n",
    "\n",
    "def trace_chart(i_fig, df, name_prefix, fig_row, fig_col):\n",
    "    for col in price_columns.keys():\n",
    "        x = df.index.get_level_values('date')\n",
    "        i_fig.add_trace(\n",
    "            go.Scatter(x=x, y=df[col], mode='lines', name=f'{name_prefix} {col}', line=dict(color=price_columns[col])),\n",
    "            row=fig_row, col=fig_col)\n",
    "    i_fig.add_trace(\n",
    "        go.Scatter(x=x, y=df['volume'], mode='lines', name=f'{name_prefix} volume', line=dict(color='orange')),\n",
    "        row=fig_row, col=fig_col)\n",
    "    return i_fig\n",
    "\n",
    "\n",
    "def visualize_transformation(orig_ohlcv, trans_original_ohlcv):\n",
    "    duration = 256  # candles\n",
    "    start = trans_original_ohlcv.index.get_level_values('date').min()\n",
    "    end = trans_original_ohlcv.index.get_level_values('date').max() - timedelta(days=1)\n",
    "    for timeframe in trans_original_ohlcv.index.get_level_values(level='timeframe').unique():\n",
    "        n_ohlcva = single_timeframe(trans_original_ohlcv, timeframe)\n",
    "        ohlcva = single_timeframe(orig_ohlcv, timeframe)\n",
    "        for random_start_day in np.random.choice(pd.date_range(start, end, freq=timedelta(days=1)), size=1):\n",
    "            random_start = random_start_day + timedelta(seconds=randint(0, 60 * 60 * 24))\n",
    "            t_n_ohlcva = n_ohlcva[\n",
    "                (n_ohlcva.index.get_level_values('date') >= random_start) &\n",
    "                (n_ohlcva.index.get_level_values('date') < random_start + (duration * pd.to_timedelta(timeframe)))]\n",
    "            t_ohlcva = ohlcva[\n",
    "                (ohlcva.index.get_level_values('date') >= random_start) &\n",
    "                (ohlcva.index.get_level_values('date') < random_start + duration * pd.to_timedelta(timeframe))]\n",
    "            fig = make_subplots(rows=2, cols=1, shared_xaxes=True,\n",
    "                                vertical_spacing=0.2, subplot_titles=(\"transformed\", \"original\"))\n",
    "            fig = trace_chart(fig, t_n_ohlcva, \"transformed\", fig_row=1, fig_col=1)\n",
    "            fig = trace_chart(fig, t_ohlcva, \"original\", fig_row=2, fig_col=1)\n",
    "\n",
    "            fig.update_layout(\n",
    "                title=f'Timeframe:{timeframe}, Start:{random_start}, Duration:{duration * pd.to_timedelta(timeframe)} ',\n",
    "                height=800, xaxis_rangeslider=dict(visible=False),\n",
    "                xaxis2_rangeslider=dict(\n",
    "                    visible=True,\n",
    "                    yaxis=dict(rangemode='auto',\n",
    "                               range=[0, 0.3],  # Adjust the range height here to reduce the height\n",
    "                               ),\n",
    "                    thickness=0.05,  # Control the thickness of the range selector (default is 0.15)\n",
    "                ), yaxis=dict(fixedrange=False), yaxis2=dict(fixedrange=False),  # vertical zooming\n",
    "            ).show()\n",
    "            # html_file_path = f\"{name}.html\"\n",
    "            # fig.write_html(html_file_path)\n",
    "            # if os.path.exists(html_file_path):\n",
    "            #     display(IFrame(src=html_file_path, width='100%', height=800))\n",
    "\n",
    "# compare_transformation(mt_ohlcva, mt_ohlcva)"
   ],
   "id": "41c34dd94639d4ac",
   "outputs": [],
   "execution_count": null
  },
  {
   "metadata": {},
   "cell_type": "markdown",
   "source": "# np.log transformation",
   "id": "dff51fc200d2565d"
  },
  {
   "metadata": {},
   "cell_type": "markdown",
   "source": "# volume_rma np.log transform",
   "id": "f68ef5b2b647502d"
  },
  {
   "metadata": {},
   "cell_type": "code",
   "source": [
    "t = mt_ohlcva.copy()\n",
    "t['n_volume_rma'] = np.log(t['volume_rma'] + 0.0000000000000000000000000001)\n",
    "fig = go.Figure()\n",
    "n_probability = count / len(t)\n",
    "fig = go.Figure()\n",
    "fig.add_trace(go.Scatter(x=edges, y=n_probability, mode='lines', name='p', line=dict(color='blue')))\n",
    "fig.update_layout(title='log Volume RMA PDF', xaxis_title='Time', yaxis_title='Volume RMA',\n",
    "                  template='plotly_white').show()\n",
    "t['volume_rma'].describe()"
   ],
   "id": "76fc39325e866f3d",
   "outputs": [],
   "execution_count": null
  },
  {
   "metadata": {},
   "cell_type": "code",
   "source": [
    "n_mt_ohlcva = mt_ohlcva[['open', 'close', 'high', 'low', 'volume']].copy()\n",
    "n_mt_ohlcva.describe()"
   ],
   "id": "c92161e884ed63ef",
   "outputs": [],
   "execution_count": null
  },
  {
   "metadata": {},
   "cell_type": "markdown",
   "source": "# Shift Transform",
   "id": "5c2108627146a781"
  },
  {
   "metadata": {},
   "cell_type": "code",
   "source": "before = n_mt_ohlcva.copy()",
   "id": "4b7c4ea9f964a392",
   "outputs": [],
   "execution_count": null
  },
  {
   "metadata": {},
   "cell_type": "code",
   "source": [
    "shifted_mt_ohlcva = n_mt_ohlcva.shift(1)\n",
    "for timeframe in n_mt_ohlcva.index.get_level_values('timeframe').unique():\n",
    "    shifted_mt_ohlcva = n_mt_ohlcva.loc[pd.IndexSlice[timeframe, :]].copy().shift(1)\n",
    "    n_mt_ohlcva.loc[pd.IndexSlice[timeframe, :], ['open', 'close', 'high', 'low']] = (\n",
    "                n_mt_ohlcva.loc[pd.IndexSlice[timeframe, :], ['open', 'close', 'high', 'low']]\n",
    "                - shifted_mt_ohlcva[['open', 'close', 'high', 'low']])\n",
    "visualize_transformation(before, n_mt_ohlcva, )\n",
    "n_mt_ohlcva.describe()"
   ],
   "id": "a559d44cb0e12ab",
   "outputs": [],
   "execution_count": null
  },
  {
   "metadata": {},
   "cell_type": "markdown",
   "source": "# ATR transform",
   "id": "bca2f37bbadf8926"
  },
  {
   "metadata": {},
   "cell_type": "code",
   "source": "before = n_mt_ohlcva.copy()",
   "id": "2c7a8eb26e48b5cc",
   "outputs": [],
   "execution_count": null
  },
  {
   "metadata": {},
   "cell_type": "code",
   "source": [
    "n_mt_ohlcva[['open', 'close', 'high', 'low']] = n_mt_ohlcva[['open', 'close', 'high', 'low']].div(mt_ohlcva['atr'],\n",
    "                                                                                                  axis=0)\n",
    "n_mt_ohlcva['volume'] = mt_ohlcva['volume_rma']\n",
    "n_mt_ohlcva['atr'] = mt_ohlcva['atr']\n",
    "visualize_transformation(before, n_mt_ohlcva)\n",
    "n_mt_ohlcva.describe()\n"
   ],
   "id": "c13267dd210f2348",
   "outputs": [],
   "execution_count": null
  },
  {
   "metadata": {},
   "cell_type": "code",
   "source": "",
   "id": "903dceefc8d4fb55",
   "outputs": [],
   "execution_count": null
  },
  {
   "metadata": {},
   "cell_type": "markdown",
   "source": "# np.log transformation",
   "id": "e8bd801c073fd109"
  },
  {
   "metadata": {},
   "cell_type": "code",
   "source": "before = n_mt_ohlcva.copy()",
   "id": "bcf94d689ea846fe",
   "outputs": [],
   "execution_count": null
  },
  {
   "metadata": {},
   "cell_type": "code",
   "source": [
    "n_mt_ohlcva[['open', 'close', 'high', 'low']] = np.log(\n",
    "    n_mt_ohlcva[['open', 'close', 'high', 'low']] + 0.00000000000000000000000001)\n",
    "visualize_transformation(before, n_mt_ohlcva)\n",
    "n_mt_ohlcva.describe()\n"
   ],
   "id": "4615f323dd49eea6",
   "outputs": [],
   "execution_count": null
  },
  {
   "metadata": {},
   "cell_type": "markdown",
   "source": "# standard transformation",
   "id": "93810a4ea51fb14f"
  },
  {
   "metadata": {},
   "cell_type": "code",
   "source": [
    "from sklearn.preprocessing import StandardScaler\n",
    "\n",
    "n_mt_ohlcva = mt_ohlcva.copy()\n",
    "transformers = {'volume': StandardScaler()}\n",
    "for col in ['open', 'close', 'high', 'low']:\n",
    "    n_mt_ohlcva[col] = n_mt_ohlcva[col] / n_mt_ohlcva['atr']\n",
    "    print(f\"original: n_mt_ohlcva[{col}]:\" + str(n_mt_ohlcva[col].describe()[['mean', 'std']].to_dict()))\n",
    "    n_mt_ohlcva[col] = np.log(n_mt_ohlcva[col])\n",
    "    print(f\"np.log: n_mt_ohlcva[{col}]:\" + str(n_mt_ohlcva[col].describe()[['mean', 'std']].to_dict()))\n",
    "    transformers[col] = StandardScaler()\n",
    "    n_mt_ohlcva[col] = transformers[col].fit_transform(n_mt_ohlcva[[col]])\n",
    "    print(f\"fit_transform: n_mt_ohlcva[{col}]:\" + str(n_mt_ohlcva[col].describe()[['mean', 'std']].to_dict()))\n"
   ],
   "id": "bddaaed33e18fa82",
   "outputs": [],
   "execution_count": null
  },
  {
   "metadata": {},
   "cell_type": "markdown",
   "source": "for random_start in",
   "id": "dbe112d3d2b52a21"
  },
  {
   "metadata": {},
   "cell_type": "code",
   "source": [
    "\n",
    "\n",
    "visualize_transformation(mt_ohlcva, n_mt_ohlcva, \"mt_ohlcva vs n_mt_ohlcva\")"
   ],
   "id": "e0378d0f308e3d89",
   "outputs": [],
   "execution_count": null
  },
  {
   "metadata": {},
   "cell_type": "code",
   "source": "",
   "id": "233efd092cc23a51",
   "outputs": [],
   "execution_count": null
  }
 ],
 "metadata": {
  "kernelspec": {
   "display_name": "Python 3",
   "language": "python",
   "name": "python3"
  },
  "language_info": {
   "codemirror_mode": {
    "name": "ipython",
    "version": 2
   },
   "file_extension": ".py",
   "mimetype": "text/x-python",
   "name": "python",
   "nbconvert_exporter": "python",
   "pygments_lexer": "ipython2",
   "version": "2.7.6"
  }
 },
 "nbformat": 4,
 "nbformat_minor": 5
}
